{
  "nbformat": 4,
  "nbformat_minor": 0,
  "metadata": {
    "colab": {
      "name": "Pico-8 PCM Converter",
      "provenance": [],
      "authorship_tag": "ABX9TyM+TVSDtW/QxhEE/bV13YxE",
      "include_colab_link": true
    },
    "kernelspec": {
      "name": "python3",
      "display_name": "Python 3"
    },
    "language_info": {
      "name": "python"
    }
  },
  "cells": [
    {
      "cell_type": "markdown",
      "metadata": {
        "id": "view-in-github",
        "colab_type": "text"
      },
      "source": [
        "<a href=\"https://colab.research.google.com/github/iamstillalexh/Pico8AudioConverter/blob/main/Pico_8_PCM_Converter.ipynb\" target=\"_parent\"><img src=\"https://colab.research.google.com/assets/colab-badge.svg\" alt=\"Open In Colab\"/></a>"
      ]
    },
    {
      "cell_type": "markdown",
      "metadata": {
        "id": "lgZFQDvh3GuS"
      },
      "source": [
        "## 1) Install FFmpeg"
      ]
    },
    {
      "cell_type": "code",
      "metadata": {
        "colab": {
          "base_uri": "https://localhost:8080/",
          "height": 73
        },
        "id": "Y-hfip1G2-Yi",
        "cellView": "form",
        "outputId": "c7ca3bdc-b20b-49cf-d31f-8a0622150da8"
      },
      "source": [
        "#@title <font size=\"5\">← ឵឵<i>Upgrade FFmpeg to v4.2.2</font> { vertical-output: true }\n",
        "from IPython.display import clear_output\n",
        "import os, urllib.request\n",
        "HOME = os.path.expanduser(\"~\")\n",
        "pathDoneCMD = f'{HOME}/doneCMD.sh'\n",
        "if not os.path.exists(f\"{HOME}/.ipython/ttmg.py\"):\n",
        "    hCode = \"https://raw.githubusercontent.com/yunooooo/gcct/master/res/ttmg.py\"\n",
        "    urllib.request.urlretrieve(hCode, f\"{HOME}/.ipython/ttmg.py\")\n",
        "\n",
        "from ttmg import (\n",
        "    loadingAn,\n",
        "    textAn,\n",
        ")\n",
        "\n",
        "loadingAn(name=\"lds\")\n",
        "textAn(\"Installing Dependencies...\", ty='twg')\n",
        "os.system('pip install git+git://github.com/AWConant/jikanpy.git')\n",
        "os.system('add-apt-repository -y ppa:jonathonf/ffmpeg-4')\n",
        "os.system('apt-get update')\n",
        "os.system('apt install mediainfo')\n",
        "os.system('apt-get install ffmpeg')\n",
        "clear_output()\n",
        "print('Installation finished.')"
      ],
      "execution_count": null,
      "outputs": [
        {
          "output_type": "stream",
          "name": "stdout",
          "text": [
            "Installation finished.\n"
          ]
        }
      ]
    },
    {
      "cell_type": "markdown",
      "metadata": {
        "id": "zBNhrOwN5U_n"
      },
      "source": [
        "# 2) Install [p8scii-encoder](https://gitlab.com/dev_urandom/p8scii-encoder)"
      ]
    },
    {
      "cell_type": "code",
      "metadata": {
        "id": "-9A4Qz5FN-lD"
      },
      "source": [
        "!mkdir src"
      ],
      "execution_count": null,
      "outputs": []
    },
    {
      "cell_type": "code",
      "metadata": {
        "colab": {
          "base_uri": "https://localhost:8080/"
        },
        "id": "DhEMFuVj5WMe",
        "cellView": "form",
        "outputId": "0e9a9ab5-6f30-4a6f-8dd9-004671c9ae2a"
      },
      "source": [
        "#@title Create file from C\n",
        "\n",
        "%%writefile src/main.c\n",
        "\n",
        "#include <stdio.h>\n",
        "#include <stdlib.h>\n",
        "#include <string.h>\n",
        "#include <unistd.h>\n",
        "\n",
        "#ifdef _WIN32\n",
        "#include <windows.h>\n",
        "#endif\n",
        "\n",
        "const char* lowchars[16] = {\"▮\", \"■\", \"□\", \"⁙\", \"⁘\", \"‖\", \"◀\", \"▶\", \"「\", \"」\", \"¥\", \"•\", \"、\", \"。\", \"゛\", \"゜\" };\n",
        "\n",
        "const char* highchars[128] = {\n",
        "\t\"█\", \"▒\", \"🐱\", \"⬇️\", \"░\", \"✽\", \"●\", \"♥\", \"☉\", \"웃\", \"⌂\", \"⬅️\", \"😐\", \"♪\", \"🅾️\", \"◆\", \"…\", \"➡️\", \"★\", \"⧗\", \"⬆️\", \"ˇ\", \"∧\", \"❎\", \"▤\", \"▥\", \"あ\", \"い\", \"う\", \"え\", \"お\", \"か\", \"き\", \"く\", \"け\", \"こ\", \"さ\", \"し\", \"す\", \"せ\", \"そ\", \"た\", \"ち\", \"つ\", \"て\", \"と\", \"な\", \"に\", \"ぬ\", \"ね\", \"の\", \"は\", \"ひ\", \"ふ\", \"へ\", \"ほ\", \"ま\", \"み\", \"む\", \"め\", \"も\", \"や\", \"ゆ\", \"よ\", \"ら\", \"り\", \"る\", \"れ\", \"ろ\", \"わ\", \"を\", \"ん\", \"っ\", \"ゃ\", \"ゅ\", \"ょ\", \"ア\", \"イ\", \"ウ\", \"エ\", \"オ\", \"カ\", \"キ\", \"ク\", \"ケ\", \"コ\", \"サ\", \"シ\", \"ス\", \"セ\", \"ソ\", \"タ\", \"チ\", \"ツ\", \"テ\", \"ト\", \"ナ\", \"ニ\", \"ヌ\", \"ネ\", \"ノ\", \"ハ\", \"ヒ\", \"フ\", \"ヘ\", \"ホ\", \"マ\", \"ミ\", \"ム\", \"メ\", \"モ\", \"ヤ\", \"ユ\", \"ヨ\", \"ラ\", \"リ\", \"ル\", \"レ\", \"ロ\", \"ワ\", \"ヲ\", \"ン\", \"ッ\", \"ャ\", \"ュ\", \"ョ\", \"◜\", \"◝\"};\n",
        "\n",
        "int main(int argc, char** argv) {\n",
        "\n",
        "\tint c;\n",
        "\n",
        "\tFILE* infile = stdin;\n",
        "\tFILE* outfile = stdout;\n",
        "\n",
        "\tconst char* inname = NULL;\n",
        "\tconst char* outname = NULL;\n",
        "\n",
        "#ifdef _WIN32\n",
        "\tHWND console = GetConsoleWindow();\n",
        "\n",
        "\tif (!console) {\n",
        "\t\tif (argc > 1) {\n",
        "\t\t} else {\n",
        "\n",
        "\t\t\t// use GetOpenFileName to select the file\n",
        "\t\t\tOPENFILENAME ofn;\n",
        "\t\t\tTCHAR szFile[PATH_MAX] = {0};\n",
        "\n",
        "\t\t\tmemset(&ofn,0,sizeof ofn);\n",
        "\t\t\tofn.lStructSize = sizeof ofn;\n",
        "\t\t\tofn.lpstrFile = szFile;\n",
        "\t\t\tofn.nMaxFile = PATH_MAX;\n",
        "\t\t\tofn.lpstrTitle = \"Which file should be converted into a PICO-8 string?\";\n",
        "\n",
        "\t\t\tif (GetOpenFileName(&ofn) == TRUE) {\n",
        "\t\t\t\tinname = strdup(ofn.lpstrFile);\n",
        "\t\t\t} else {\n",
        "\n",
        "\t\t\t\tMessageBox(NULL,\"Please select a file to be converted using the dialog box or drag its icon onto this program's executable.\",\"P8SCII Encoder\",MB_OK | MB_ICONERROR);\n",
        "\t\t\t\treturn 1;\n",
        "\n",
        "\t\t\t}\n",
        "\n",
        "\t\t}\n",
        "\t}\n",
        "#endif\n",
        "\n",
        "\tint opt;\n",
        "\twhile ((opt = getopt(argc,argv,\"ho:\")) != -1) {\n",
        "\t\tswitch(opt) {\n",
        "\t\t\tcase 'o':\n",
        "\t\t\t\toutname = optarg;\n",
        "\t\t\t\tbreak;\n",
        "\t\t\tcase 'h':\n",
        "\t\t\tcase '?':\n",
        "\t\t\t\tfprintf(stderr,\"Usage: %s [-o output_file] [input_file]\\n\",argv[0]);\n",
        "\t\t\t\treturn 1;\n",
        "\t\t\t\tbreak;\n",
        "\t\t}\n",
        "\t}\n",
        "\n",
        "\tif (optind < argc) {\n",
        "\t\tinname = argv[optind];\n",
        "\t}\n",
        "\n",
        "\tif (inname) {\n",
        "\t\tinfile = fopen(inname,\"rb\");\n",
        "\t\tif (!infile) { perror(\"Unable to open input file\"); return 1;}\n",
        "\n",
        "\t\tif (!outname) {\n",
        "\t\t\tchar* newout = malloc(strlen(inname) + 4 + 1);\n",
        "\t\t\tif (!newout) { puts(\"Unable to allocate memory for output filename!\"); return 1; }\n",
        "\t\t\tstrcpy(newout,inname);\n",
        "\t\t\tstrcat(newout,\".txt\");\n",
        "\t\t\toutname = newout;\n",
        "\t\t}\n",
        "\t}\n",
        "\n",
        "\tif (outname) {\n",
        "\t\toutfile = fopen(outname,\"wb\");\n",
        "\t\tif (!outfile) { perror(\"Unable to open input file\"); return 1;}\n",
        "\t}\n",
        "\n",
        "\tfputs(\"\\\"\",outfile);\n",
        "\twhile ((c = fgetc(infile)) != EOF) {\n",
        "\t\tif ((c >= 16) && (c < 32)) \n",
        "\t\t\tfputs(lowchars[c-16],outfile);\n",
        "\t\telse if (c >= 128) \n",
        "\t\t\tfputs(highchars[c-128],outfile);\n",
        "\t\telse switch(c) {\n",
        "\t\t\tcase 0: fputs(\"\\\\000\",outfile); break;\n",
        "\t\t\tcase 1: fputs(\"¹\",outfile); break;\n",
        "\t\t\tcase 2: fputs(\"²\",outfile); break;\n",
        "\t\t\tcase 3: fputs(\"³\",outfile); break;\n",
        "\t\t\tcase 4: fputs(\"⁴\",outfile); break;\n",
        "\t\t\tcase 5: fputs(\"⁵\",outfile); break;\n",
        "\t\t\tcase 6: fputs(\"⁶\",outfile); break;\n",
        "\t\t\tcase 7: fputs(\"⁷\",outfile); break;\n",
        "\t\t\tcase 8: fputs(\"⁸\",outfile); break;\n",
        "\t\t\tcase 9: fputs(\"\\\\t\",outfile); break;\n",
        "\t\t\tcase 10: fputs(\"\\\\n\",outfile); break;\n",
        "\t\t\tcase 11: fputs(\"ᵇ\",outfile); break;\n",
        "\t\t\tcase 12: fputs(\"ᶜ\",outfile); break;\n",
        "\t\t\tcase 13: fputs(\"\\\\r\",outfile); break;\n",
        "\t\t\tcase 14: fputs(\"ᵉ\",outfile); break;\n",
        "\t\t\tcase 15: fputs(\"ᶠ\",outfile); break;\n",
        "\t\t\tcase 92: fputs(\"\\\\\\\\\",outfile); break;\n",
        "\t\t\tcase 34: fputs(\"\\\\\\\"\",outfile); break;\n",
        "\t\t\tdefault: fputc(c, outfile); break;\n",
        "\t\t}\n",
        "\t}\n",
        "\tfputs(\"\\\"\",outfile);\n",
        "\n",
        "\tif (infile != stdin) fclose(infile);\n",
        "\tif (outfile != stdout) fclose(outfile);\n",
        "\n",
        "\treturn 0;\n",
        "}\n"
      ],
      "execution_count": null,
      "outputs": [
        {
          "output_type": "stream",
          "name": "stdout",
          "text": [
            "Writing src/main.c\n"
          ]
        }
      ]
    },
    {
      "cell_type": "code",
      "metadata": {
        "colab": {
          "base_uri": "https://localhost:8080/"
        },
        "cellView": "form",
        "id": "Jn7esct_LxHx",
        "outputId": "e582c45d-2e2b-43bc-a65c-4cf321c50c42"
      },
      "source": [
        "#@title Create makefile\n",
        "\n",
        "%%writefile Makefile\n",
        "\n",
        "-include Makefile.cfg\n",
        "\n",
        "OBJDIR=obj\n",
        "SRCDIR=src\n",
        "\n",
        "_CC=gcc\n",
        "LD=ld\n",
        "CFLAGS = -std=c11 -Wall\n",
        "DEFS += -D_POSIX_C_SOURCE=2\n",
        "LDFLAGS =\n",
        "\n",
        "_OBJS = main.o\n",
        "\n",
        "ifdef WINDOWS\n",
        "CCPREFIX=x86_64-w64-mingw32-\n",
        "OBJSUFFIX=.exe\n",
        "LDFLAGS=-mwindows\n",
        "endif\n",
        "\n",
        "ifdef PROFILE\n",
        "CFLAGS += -pg\n",
        "LDFLAGS += -pg\n",
        "endif\n",
        "\n",
        "ifdef RELEASE\n",
        "DEFS += -xSSE3 -O3 -DNDEBUG\n",
        "else\n",
        "DEFS += -g -O0\n",
        "endif\n",
        "\n",
        "CC = $(CCPREFIX)$(_CC)\n",
        "OBJS = $(patsubst %,$(OBJDIR)/%,$(_OBJS))\n",
        "\n",
        "install: p8scii-encoder$(OBJSUFFIX)\n",
        "\n",
        "p8scii-encoder$(OBJSUFFIX): $(OBJS)\n",
        "\t$(CC) -o $@ $^ $(DEFS) $(LDFLAGS)\n",
        "\n",
        "$(OBJDIR)/%.o: $(SRCDIR)/%.c $(OBJDIR)\n",
        "\t$(CC) -c -o $@ $< $(CFLAGS) $(DEFS)\n",
        "\n",
        "$(OBJDIR):\n",
        "\tmkdir -p $(OBJDIR)\n",
        "\n",
        "clean:\n",
        "\trm -rf $(OBJDIR)/*.o p8scii-encoder\n",
        "\n",
        ".PHONY: clean install"
      ],
      "execution_count": null,
      "outputs": [
        {
          "output_type": "stream",
          "name": "stdout",
          "text": [
            "Writing Makefile\n"
          ]
        }
      ]
    },
    {
      "cell_type": "code",
      "metadata": {
        "colab": {
          "base_uri": "https://localhost:8080/"
        },
        "id": "txFh7xcx3JhB",
        "outputId": "ead7c56f-7004-4b2e-badc-4fd96c5ca42e"
      },
      "source": [
        "%%shell\n",
        "\n",
        "make"
      ],
      "execution_count": null,
      "outputs": [
        {
          "output_type": "stream",
          "name": "stdout",
          "text": [
            "mkdir -p obj\n",
            "gcc -c -o obj/main.o src/main.c -std=c11 -Wall -D_POSIX_C_SOURCE=2 -g -O0\n",
            "gcc -o p8scii-encoder obj/main.o -D_POSIX_C_SOURCE=2 -g -O0 \n"
          ]
        },
        {
          "output_type": "execute_result",
          "data": {
            "text/plain": [
              ""
            ]
          },
          "metadata": {},
          "execution_count": 5
        }
      ]
    },
    {
      "cell_type": "markdown",
      "metadata": {
        "id": "pvjktXMw3ebF"
      },
      "source": [
        "# 3) Upload file and convert\n",
        "Output should appear as both .raw and .txt files, the .txt is what you want"
      ]
    },
    {
      "cell_type": "code",
      "metadata": {
        "colab": {
          "base_uri": "https://localhost:8080/"
        },
        "id": "ABJeWAsJ3dW5",
        "outputId": "d9e4eca0-201a-4dd0-bc1c-76ae2a7f43ae"
      },
      "source": [
        "import os, sys, re\n",
        "input_filepath = \"burymewithmymoney.mp3\" #@param {type:\"string\"}\n",
        "output_name = \"buryme_pico\" #@param {type:\"string\"}\n",
        "!ffmpeg -i \"$input_filepath\" -f u8 -c:a pcm_u8 -ar 5512 -ac 1 \"$output_name\".raw\n",
        "!./p8scii-encoder \"$output_name\".raw"
      ],
      "execution_count": null,
      "outputs": [
        {
          "output_type": "stream",
          "name": "stdout",
          "text": [
            "ffmpeg version 4.3.2-0york0~18.04 Copyright (c) 2000-2021 the FFmpeg developers\n",
            "  built with gcc 7 (Ubuntu 7.5.0-3ubuntu1~18.04)\n",
            "  configuration: --prefix=/usr --extra-version='0york0~18.04' --toolchain=hardened --libdir=/usr/lib/x86_64-linux-gnu --incdir=/usr/include/x86_64-linux-gnu --arch=amd64 --enable-gpl --disable-stripping --enable-avresample --disable-filter=resample --enable-gnutls --enable-ladspa --enable-libaom --enable-libass --enable-libbluray --enable-libbs2b --enable-libcaca --enable-libcdio --enable-libcodec2 --enable-libflite --enable-libfontconfig --enable-libfreetype --enable-libfribidi --enable-libgme --enable-libgsm --enable-libjack --enable-libmp3lame --enable-libmysofa --enable-libopenjpeg --enable-libopenmpt --enable-libopus --enable-libpulse --enable-librabbitmq --enable-librsvg --enable-librubberband --enable-libshine --enable-libsnappy --enable-libsoxr --enable-libspeex --enable-libsrt --enable-libssh --enable-libtheora --enable-libtwolame --enable-libvidstab --enable-libvorbis --enable-libvpx --enable-libwavpack --enable-libwebp --enable-libx265 --enable-libxml2 --enable-libxvid --enable-libzmq --enable-libzvbi --enable-lv2 --enable-omx --enable-openal --enable-opencl --enable-opengl --enable-sdl2 --enable-libzimg --enable-pocketsphinx --enable-libdc1394 --enable-libdrm --enable-libiec61883 --enable-chromaprint --enable-frei0r --enable-libx264 --enable-shared\n",
            "  libavutil      56. 51.100 / 56. 51.100\n",
            "  libavcodec     58. 91.100 / 58. 91.100\n",
            "  libavformat    58. 45.100 / 58. 45.100\n",
            "  libavdevice    58. 10.100 / 58. 10.100\n",
            "  libavfilter     7. 85.100 /  7. 85.100\n",
            "  libavresample   4.  0.  0 /  4.  0.  0\n",
            "  libswscale      5.  7.100 /  5.  7.100\n",
            "  libswresample   3.  7.100 /  3.  7.100\n",
            "  libpostproc    55.  7.100 / 55.  7.100\n",
            "Input #0, mp3, from 'burymewithmymoney.mp3':\n",
            "  Duration: 00:00:02.56, start: 0.025057, bitrate: 129 kb/s\n",
            "    Stream #0:0: Audio: mp3, 44100 Hz, stereo, fltp, 128 kb/s\n",
            "    Metadata:\n",
            "      encoder         : LAME3.98r\n",
            "Stream mapping:\n",
            "  Stream #0:0 -> #0:0 (mp3 (mp3float) -> pcm_u8 (native))\n",
            "Press [q] to stop, [?] for help\n",
            "Output #0, u8, to 'buryme_pico.raw':\n",
            "  Metadata:\n",
            "    encoder         : Lavf58.45.100\n",
            "    Stream #0:0: Audio: pcm_u8, 5512 Hz, mono, u8, 44 kb/s\n",
            "    Metadata:\n",
            "      encoder         : Lavc58.91.100 pcm_u8\n",
            "size=      14kB time=00:00:02.51 bitrate=  44.1kbits/s speed= 102x    \n",
            "video:0kB audio:14kB subtitle:0kB other streams:0kB global headers:0kB muxing overhead: 0.000000%\n"
          ]
        }
      ]
    }
  ]
}